{
 "cells": [
  {
   "source": [
    "### Packages"
   ],
   "cell_type": "markdown",
   "metadata": {}
  },
  {
   "cell_type": "code",
   "execution_count": 1,
   "metadata": {},
   "outputs": [],
   "source": [
    "import sys\n",
    "module_path = os.path.abspath(os.path.join('..'))\n",
    "if module_path not in sys.path:\n",
    "    sys.path.append(module_path)"
   ]
  },
  {
   "cell_type": "code",
   "execution_count": 2,
   "metadata": {},
   "outputs": [],
   "source": [
    "# necessary class\n",
    "import pickle\n",
    "import numpy as np\n",
    "import tensorflow as tf\n",
    "import matplotlib.pyplot as plt\n",
    "\n",
    "from scripts import Evaluator\n",
    "from scripts import Retrievor\n",
    "from scripts import Compressor\n",
    "from scripts import Descriptor\n",
    "from tensorflow.keras.models import Model\n",
    "from scripts import AspectAwarePreprocessor\n",
    "from scripts import ImageToArrayPreprocessor\n",
    "from scripts import printProgressBar, loadData\n",
    "from sklearn.model_selection import train_test_split"
   ]
  },
  {
   "cell_type": "markdown",
   "metadata": {},
   "source": [
    "#### data"
   ]
  },
  {
   "cell_type": "code",
   "execution_count": 3,
   "metadata": {},
   "outputs": [],
   "source": [
    "# initialize the image preprocessors\n",
    "aap = AspectAwarePreprocessor(112, 112)\n",
    "iap = ImageToArrayPreprocessor()"
   ]
  },
  {
   "cell_type": "code",
   "execution_count": 4,
   "metadata": {
    "tags": []
   },
   "outputs": [
    {
     "output_type": "stream",
     "name": "stdout",
     "text": "Progress: |██████████████████████████████████████████████████| 100.0% Complete\n"
    }
   ],
   "source": [
    "# dataset\n",
    "dataset, labels = loadData(\"../data/\", preprocessors=[aap, iap])\n",
    "dataset = dataset.astype('float32') / 255.0"
   ]
  },
  {
   "cell_type": "code",
   "execution_count": 5,
   "metadata": {},
   "outputs": [],
   "source": [
    "data_db, data_test, labels_db, labels_test = train_test_split(dataset, labels, test_size=0.2, random_state=1337)"
   ]
  },
  {
   "cell_type": "markdown",
   "metadata": {},
   "source": [
    "### Evaluation"
   ]
  },
  {
   "source": [
    "#### autoencoder"
   ],
   "cell_type": "markdown",
   "metadata": {}
  },
  {
   "cell_type": "code",
   "execution_count": 6,
   "metadata": {
    "tags": []
   },
   "outputs": [
    {
     "output_type": "stream",
     "name": "stdout",
     "text": "Progress: |██████████████████████████████████████████████████| 100.0% Complete\nExtraction finish. DB saved at ../features/features_cnn.pck.\n"
    }
   ],
   "source": [
    "conv = Compressor()\n",
    "conv.extract_db(\"../features/features_cnn.pck\", data_db, labels_db)"
   ]
  },
  {
   "cell_type": "code",
   "execution_count": 7,
   "metadata": {
    "tags": []
   },
   "outputs": [],
   "source": [
    "finder = Retrievor(\"../features/features_cnn.pck\")"
   ]
  },
  {
   "cell_type": "code",
   "execution_count": 8,
   "metadata": {
    "tags": []
   },
   "outputs": [
    {
     "output_type": "stream",
     "name": "stdout",
     "text": "Progress: |██████████████████████████████████████████████████| 100.0% Complete\nmean reciprocal rank: 0.2125\nmean of mean average precision: 0.5708225108225107\nrank #1 accuracy: 0.5\naverage time per query: 0.016793429851531982\n"
    }
   ],
   "source": [
    "evaluator = Evaluator('cosine')\n",
    "evaluator.evaluate(conv, finder, data_test, labels_test)"
   ]
  },
  {
   "cell_type": "code",
   "execution_count": 9,
   "metadata": {
    "tags": []
   },
   "outputs": [
    {
     "output_type": "stream",
     "name": "stdout",
     "text": "Progress: |██████████████████████████████████████████████████| 100.0% Complete\nmean reciprocal rank: 0.2833333333333333\nmean of mean average precision: 0.5391373360938578\nrank #1 accuracy: 0.4583333333333333\naverage time per query: 0.016880700985590618\n"
    }
   ],
   "source": [
    "evaluator = Evaluator('euclidean')\n",
    "evaluator.evaluate(conv, finder, data_test, labels_test)"
   ]
  },
  {
   "cell_type": "code",
   "execution_count": 10,
   "metadata": {
    "tags": []
   },
   "outputs": [
    {
     "output_type": "stream",
     "name": "stdout",
     "text": "Progress: |██████████████████████████████████████████████████| 100.0% Complete\nmean reciprocal rank: 0.2333333333333333\nmean of mean average precision: 0.5655858757644471\nrank #1 accuracy: 0.4583333333333333\naverage time per query: 0.017007489999135334\n"
    }
   ],
   "source": [
    "evaluator = Evaluator('cityblock')\n",
    "evaluator.evaluate(conv, finder, data_test, labels_test)"
   ]
  },
  {
   "cell_type": "markdown",
   "metadata": {},
   "source": [
    "#### AKAZE"
   ]
  },
  {
   "cell_type": "code",
   "execution_count": 11,
   "metadata": {
    "tags": []
   },
   "outputs": [
    {
     "output_type": "stream",
     "name": "stdout",
     "text": "Progress: |██████████████████████████████████████████████████| 100.0% Complete\nExtraction finish. DB saved at ../features/features_akaze.pck.\n"
    }
   ],
   "source": [
    "akaze = Descriptor('AKAZE')\n",
    "akaze.extract_db(\"../features/features_akaze.pck\", data_db, labels_db)"
   ]
  },
  {
   "cell_type": "code",
   "execution_count": 12,
   "metadata": {},
   "outputs": [],
   "source": [
    "finder = Retrievor(\"../features/features_akaze.pck\")"
   ]
  },
  {
   "cell_type": "code",
   "execution_count": 13,
   "metadata": {
    "tags": []
   },
   "outputs": [
    {
     "output_type": "stream",
     "name": "stdout",
     "text": "Progress: |██████████████████████████████████████████████████| 100.0% Complete\nmean reciprocal rank: 0.275\nmean of mean average precision: 0.4517408557625949\nrank #1 accuracy: 0.3333333333333333\naverage time per query: 0.003845761219660441\n"
    }
   ],
   "source": [
    "evaluator = Evaluator('cosine')\n",
    "evaluator.evaluate(akaze, finder, data_test, labels_test)"
   ]
  },
  {
   "cell_type": "code",
   "execution_count": 14,
   "metadata": {
    "tags": []
   },
   "outputs": [
    {
     "output_type": "stream",
     "name": "stdout",
     "text": "Progress: |██████████████████████████████████████████████████| 100.0% Complete\nmean reciprocal rank: 0.3125\nmean of mean average precision: 0.40257558578987146\nrank #1 accuracy: 0.16666666666666666\naverage time per query: 0.00290451447168986\n"
    }
   ],
   "source": [
    "evaluator = Evaluator('euclidean')\n",
    "evaluator.evaluate(akaze, finder, data_test, labels_test)"
   ]
  },
  {
   "cell_type": "code",
   "execution_count": 15,
   "metadata": {
    "tags": []
   },
   "outputs": [
    {
     "output_type": "stream",
     "name": "stdout",
     "text": "Progress: |██████████████████████████████████████████████████| 100.0% Complete\nmean reciprocal rank: 0.27916666666666673\nmean of mean average precision: 0.41898904006046866\nrank #1 accuracy: 0.16666666666666666\naverage time per query: 0.004027694463729858\n"
    }
   ],
   "source": [
    "evaluator = Evaluator('cityblock')\n",
    "evaluator.evaluate(akaze, finder, data_test, labels_test)"
   ]
  },
  {
   "cell_type": "markdown",
   "metadata": {},
   "source": [
    "#### ORB"
   ]
  },
  {
   "cell_type": "code",
   "execution_count": 16,
   "metadata": {
    "tags": []
   },
   "outputs": [
    {
     "output_type": "stream",
     "name": "stdout",
     "text": "Progress: |██████████████████████████████████████████████████| 100.0% Complete\nExtraction finish. DB saved at ../features/features_orb.pck.\n"
    }
   ],
   "source": [
    "orb = Descriptor('ORB')\n",
    "orb.extract_db(\"../features/features_orb.pck\", data_db, labels_db)"
   ]
  },
  {
   "cell_type": "code",
   "execution_count": 17,
   "metadata": {},
   "outputs": [],
   "source": [
    "finder = Retrievor(\"../features/features_orb.pck\")"
   ]
  },
  {
   "cell_type": "code",
   "execution_count": 18,
   "metadata": {
    "tags": []
   },
   "outputs": [
    {
     "output_type": "stream",
     "name": "stdout",
     "text": "Progress: |██████████████████████████████████████████████████| 100.0% Complete\nmean reciprocal rank: 0.075\nmean of mean average precision: 0.6\nrank #1 accuracy: 0.08333333333333333\naverage time per query: 0.002611835797627767\n"
    }
   ],
   "source": [
    "evaluator = Evaluator('cosine')\n",
    "evaluator.evaluate(orb, finder, data_test, labels_test)"
   ]
  },
  {
   "cell_type": "code",
   "execution_count": 19,
   "metadata": {
    "tags": []
   },
   "outputs": [
    {
     "output_type": "stream",
     "name": "stdout",
     "text": "Progress: |██████████████████████████████████████████████████| 100.0% Complete\nmean reciprocal rank: 0.075\nmean of mean average precision: 0.6\nrank #1 accuracy: 0.08333333333333333\naverage time per query: 0.002509156862894694\n"
    }
   ],
   "source": [
    "evaluator = Evaluator('euclidean')\n",
    "evaluator.evaluate(orb, finder, data_test, labels_test)"
   ]
  },
  {
   "cell_type": "code",
   "execution_count": 20,
   "metadata": {
    "tags": []
   },
   "outputs": [
    {
     "output_type": "stream",
     "name": "stdout",
     "text": "Progress: |██████████████████████████████████████████████████| 100.0% Complete\nmean reciprocal rank: 0.075\nmean of mean average precision: 0.6\nrank #1 accuracy: 0.08333333333333333\naverage time per query: 0.0025290846824645996\n"
    }
   ],
   "source": [
    "evaluator = Evaluator('cityblock')\n",
    "evaluator.evaluate(orb, finder, data_test, labels_test)"
   ]
  }
 ],
 "metadata": {
  "kernelspec": {
   "display_name": "Python 3",
   "language": "python",
   "name": "python3"
  },
  "language_info": {
   "codemirror_mode": {
    "name": "ipython",
    "version": 3
   },
   "file_extension": ".py",
   "mimetype": "text/x-python",
   "name": "python",
   "nbconvert_exporter": "python",
   "pygments_lexer": "ipython3",
   "version": "3.6.9-final"
  }
 },
 "nbformat": 4,
 "nbformat_minor": 4
}